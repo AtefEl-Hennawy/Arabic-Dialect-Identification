{
 "cells": [
  {
   "cell_type": "code",
   "execution_count": 1,
   "metadata": {
    "_cell_guid": "b1076dfc-b9ad-4769-8c92-a6c4dae69d19",
    "_uuid": "8f2839f25d086af736a60e9eeb907d3b93b6e0e5",
    "execution": {
     "iopub.execute_input": "2022-03-14T15:02:06.935165Z",
     "iopub.status.busy": "2022-03-14T15:02:06.934434Z",
     "iopub.status.idle": "2022-03-14T15:02:31.447154Z",
     "shell.execute_reply": "2022-03-14T15:02:31.445994Z",
     "shell.execute_reply.started": "2022-03-14T15:02:06.935068Z"
    }
   },
   "outputs": [],
   "source": [
    "!pip install transformers \n",
    "!pip install datasets"
   ]
  },
  {
   "cell_type": "code",
   "execution_count": 2,
   "metadata": {
    "execution": {
     "iopub.execute_input": "2022-03-14T15:02:31.451030Z",
     "iopub.status.busy": "2022-03-14T15:02:31.450666Z",
     "iopub.status.idle": "2022-03-14T15:03:51.416692Z",
     "shell.execute_reply": "2022-03-14T15:03:51.415553Z",
     "shell.execute_reply.started": "2022-03-14T15:02:31.450983Z"
    }
   },
   "outputs": [],
   "source": [
    "! conda install -y gdown"
   ]
  },
  {
   "cell_type": "code",
   "execution_count": 3,
   "metadata": {
    "execution": {
     "iopub.execute_input": "2022-03-14T15:03:51.419866Z",
     "iopub.status.busy": "2022-03-14T15:03:51.419260Z",
     "iopub.status.idle": "2022-03-14T15:03:56.380009Z",
     "shell.execute_reply": "2022-03-14T15:03:56.378731Z",
     "shell.execute_reply.started": "2022-03-14T15:03:51.419817Z"
    }
   },
   "outputs": [],
   "source": [
    "# get the cleaned CSV from my drive\n",
    "!gdown --id 1N-MFwrXg5Um6-nNq419GD1u5lUMI-PrA"
   ]
  },
  {
   "cell_type": "code",
   "execution_count": 4,
   "metadata": {
    "execution": {
     "iopub.execute_input": "2022-03-14T15:03:56.385516Z",
     "iopub.status.busy": "2022-03-14T15:03:56.384707Z",
     "iopub.status.idle": "2022-03-14T15:03:59.712081Z",
     "shell.execute_reply": "2022-03-14T15:03:59.711104Z",
     "shell.execute_reply.started": "2022-03-14T15:03:56.385478Z"
    }
   },
   "outputs": [],
   "source": [
    "import pandas as pd\n",
    "from sklearn.model_selection import train_test_split\n",
    "from transformers import BertForSequenceClassification, AutoTokenizer\n",
    "from datasets import load_metric\n",
    "import numpy as np"
   ]
  },
  {
   "cell_type": "code",
   "execution_count": 5,
   "metadata": {
    "execution": {
     "iopub.execute_input": "2022-03-14T15:03:59.714110Z",
     "iopub.status.busy": "2022-03-14T15:03:59.713776Z",
     "iopub.status.idle": "2022-03-14T15:04:01.425957Z",
     "shell.execute_reply": "2022-03-14T15:04:01.424787Z",
     "shell.execute_reply.started": "2022-03-14T15:03:59.714066Z"
    }
   },
   "outputs": [],
   "source": [
    "df = pd.read_csv('./cleaned.csv', index_col=0)"
   ]
  },
  {
   "cell_type": "code",
   "execution_count": 6,
   "metadata": {
    "execution": {
     "iopub.execute_input": "2022-03-14T15:04:01.428256Z",
     "iopub.status.busy": "2022-03-14T15:04:01.427630Z",
     "iopub.status.idle": "2022-03-14T15:04:01.580634Z",
     "shell.execute_reply": "2022-03-14T15:04:01.579596Z",
     "shell.execute_reply.started": "2022-03-14T15:04:01.428199Z"
    }
   },
   "outputs": [],
   "source": [
    "# get rid of nans\n",
    "df.dropna(inplace=True)"
   ]
  },
  {
   "cell_type": "code",
   "execution_count": 7,
   "metadata": {
    "execution": {
     "iopub.execute_input": "2022-03-14T15:04:01.582910Z",
     "iopub.status.busy": "2022-03-14T15:04:01.582582Z",
     "iopub.status.idle": "2022-03-14T15:04:01.612000Z",
     "shell.execute_reply": "2022-03-14T15:04:01.610999Z",
     "shell.execute_reply.started": "2022-03-14T15:04:01.582866Z"
    }
   },
   "outputs": [],
   "source": [
    "# convert the text column into list of strings\n",
    "X = df['0'].to_list()"
   ]
  },
  {
   "cell_type": "code",
   "execution_count": 8,
   "metadata": {
    "execution": {
     "iopub.execute_input": "2022-03-14T15:04:01.614412Z",
     "iopub.status.busy": "2022-03-14T15:04:01.613870Z",
     "iopub.status.idle": "2022-03-14T15:04:01.854681Z",
     "shell.execute_reply": "2022-03-14T15:04:01.853699Z",
     "shell.execute_reply.started": "2022-03-14T15:04:01.614363Z"
    }
   },
   "outputs": [],
   "source": [
    "# one hot encode the labels\n",
    "Y = pd.get_dummies(df['dialect']).values"
   ]
  },
  {
   "cell_type": "code",
   "execution_count": 9,
   "metadata": {
    "execution": {
     "iopub.execute_input": "2022-03-14T15:04:01.857321Z",
     "iopub.status.busy": "2022-03-14T15:04:01.856788Z",
     "iopub.status.idle": "2022-03-14T15:04:15.261209Z",
     "shell.execute_reply": "2022-03-14T15:04:15.260183Z",
     "shell.execute_reply.started": "2022-03-14T15:04:01.857248Z"
    }
   },
   "outputs": [],
   "source": [
    "# use 75% of the data due to resources and time\n",
    "x_small, x_train_test, y_small, y_train_test = train_test_split(X, Y, test_size=.75, stratify=Y, random_state=42)"
   ]
  },
  {
   "cell_type": "code",
   "execution_count": 10,
   "metadata": {
    "execution": {
     "iopub.execute_input": "2022-03-14T15:04:15.265984Z",
     "iopub.status.busy": "2022-03-14T15:04:15.265612Z",
     "iopub.status.idle": "2022-03-14T15:04:25.557682Z",
     "shell.execute_reply": "2022-03-14T15:04:25.556344Z",
     "shell.execute_reply.started": "2022-03-14T15:04:15.265948Z"
    }
   },
   "outputs": [],
   "source": [
    "x_train, x_test, y_train, y_test = train_test_split(x_train_test, y_train_test, test_size=.1, stratify=y_train_test, random_state=42)"
   ]
  },
  {
   "cell_type": "code",
   "execution_count": 11,
   "metadata": {
    "execution": {
     "iopub.execute_input": "2022-03-14T15:04:25.563770Z",
     "iopub.status.busy": "2022-03-14T15:04:25.563287Z",
     "iopub.status.idle": "2022-03-14T15:04:31.857189Z",
     "shell.execute_reply": "2022-03-14T15:04:31.856169Z",
     "shell.execute_reply.started": "2022-03-14T15:04:25.563721Z"
    }
   },
   "outputs": [],
   "source": [
    "tokenizer = AutoTokenizer.from_pretrained('aubmindlab/bert-base-arabertv02-twitter')"
   ]
  },
  {
   "cell_type": "code",
   "execution_count": 12,
   "metadata": {
    "execution": {
     "iopub.execute_input": "2022-03-14T15:04:31.859109Z",
     "iopub.status.busy": "2022-03-14T15:04:31.858696Z",
     "iopub.status.idle": "2022-03-14T15:04:31.865509Z",
     "shell.execute_reply": "2022-03-14T15:04:31.863497Z",
     "shell.execute_reply.started": "2022-03-14T15:04:31.859061Z"
    }
   },
   "outputs": [],
   "source": [
    "# adjust the max length to the longest encoded text\n",
    "max_len = max([len(tokenizer.encode(sentence)) for sentence in df['0']])"
   ]
  },
  {
   "cell_type": "code",
   "execution_count": 13,
   "metadata": {
    "execution": {
     "iopub.execute_input": "2022-03-14T15:04:31.867912Z",
     "iopub.status.busy": "2022-03-14T15:04:31.867579Z",
     "iopub.status.idle": "2022-03-14T15:05:30.704202Z",
     "shell.execute_reply": "2022-03-14T15:05:30.703116Z",
     "shell.execute_reply.started": "2022-03-14T15:04:31.867867Z"
    }
   },
   "outputs": [],
   "source": [
    "# encode for x_train and x_test\n",
    "train_encodings = tokenizer(x_train, truncation=True, padding='max_length', max_length=max_len)\n",
    "test_encodings = tokenizer(x_test, truncation=True, padding='max_length', max_length=max_len)"
   ]
  },
  {
   "cell_type": "code",
   "execution_count": 14,
   "metadata": {
    "execution": {
     "iopub.execute_input": "2022-03-14T15:05:30.706644Z",
     "iopub.status.busy": "2022-03-14T15:05:30.706251Z",
     "iopub.status.idle": "2022-03-14T15:05:30.794446Z",
     "shell.execute_reply": "2022-03-14T15:05:30.793498Z",
     "shell.execute_reply.started": "2022-03-14T15:05:30.706598Z"
    }
   },
   "outputs": [],
   "source": [
    "# create dataset from encoded text and labels\n",
    "import torch\n",
    "\n",
    "class DilacetDataset(torch.utils.data.Dataset):\n",
    "    def __init__(self, encodings, labels):\n",
    "        self.encodings = encodings\n",
    "        self.labels = labels\n",
    "\n",
    "    def __getitem__(self, idx):\n",
    "        item = {key: torch.tensor(val[idx]) for key, val in self.encodings.items()}\n",
    "        item['labels'] = torch.tensor(self.labels[idx])\n",
    "        return item\n",
    "\n",
    "    def __len__(self):\n",
    "        return len(self.labels)\n",
    "\n",
    "\n",
    "train_dataset = DilacetDataset(train_encodings, y_train.astype('float64'))\n",
    "test_dataset = DilacetDataset(test_encodings, y_test.astype('float64'))"
   ]
  },
  {
   "cell_type": "code",
   "execution_count": 15,
   "metadata": {
    "execution": {
     "iopub.execute_input": "2022-03-14T15:05:30.796424Z",
     "iopub.status.busy": "2022-03-14T15:05:30.796095Z",
     "iopub.status.idle": "2022-03-14T15:05:30.812138Z",
     "shell.execute_reply": "2022-03-14T15:05:30.810905Z",
     "shell.execute_reply.started": "2022-03-14T15:05:30.796379Z"
    }
   },
   "outputs": [],
   "source": [
    "# free some ram\n",
    "del train_encodings \n",
    "del test_encodings \n",
    "del x_train\n",
    "del y_train"
   ]
  },
  {
   "cell_type": "code",
   "execution_count": 16,
   "metadata": {
    "execution": {
     "iopub.execute_input": "2022-03-14T15:05:30.814698Z",
     "iopub.status.busy": "2022-03-14T15:05:30.814078Z",
     "iopub.status.idle": "2022-03-14T15:05:54.040066Z",
     "shell.execute_reply": "2022-03-14T15:05:54.039053Z",
     "shell.execute_reply.started": "2022-03-14T15:05:30.814650Z"
    }
   },
   "outputs": [],
   "source": [
    "model = BertForSequenceClassification.from_pretrained('aubmindlab/bert-base-arabertv02-twitter', num_labels=18)"
   ]
  },
  {
   "cell_type": "code",
   "execution_count": 17,
   "metadata": {
    "execution": {
     "iopub.execute_input": "2022-03-14T15:05:54.042697Z",
     "iopub.status.busy": "2022-03-14T15:05:54.042243Z",
     "iopub.status.idle": "2022-03-14T15:05:55.249310Z",
     "shell.execute_reply": "2022-03-14T15:05:55.248307Z",
     "shell.execute_reply.started": "2022-03-14T15:05:54.042650Z"
    }
   },
   "outputs": [],
   "source": [
    "# calculate accuracy at every epoch\n",
    "metric = load_metric(\"accuracy\")\n",
    "\n",
    "def compute_metrics(eval_pred):\n",
    "    logits, labels = eval_pred\n",
    "    predictions = np.argmax(logits, axis=-1)\n",
    "    references = np.argmax(labels, axis=1)\n",
    "    return metric.compute(predictions=predictions, references=references)"
   ]
  },
  {
   "cell_type": "code",
   "execution_count": 18,
   "metadata": {
    "execution": {
     "iopub.execute_input": "2022-03-14T15:05:55.251629Z",
     "iopub.status.busy": "2022-03-14T15:05:55.251260Z",
     "iopub.status.idle": "2022-03-14T15:05:55.257045Z",
     "shell.execute_reply": "2022-03-14T15:05:55.255582Z",
     "shell.execute_reply.started": "2022-03-14T15:05:55.251580Z"
    }
   },
   "outputs": [],
   "source": [
    "# kaggle thing to get rid of a message\n",
    "import os\n",
    "os.environ[\"WANDB_DISABLED\"] = \"true\""
   ]
  },
  {
   "cell_type": "code",
   "execution_count": null,
   "metadata": {
    "execution": {
     "iopub.execute_input": "2022-03-14T15:09:28.345319Z",
     "iopub.status.busy": "2022-03-14T15:09:28.344994Z"
    }
   },
   "outputs": [],
   "source": [
    "from transformers import Trainer, TrainingArguments\n",
    "\n",
    "training_args = TrainingArguments(\n",
    "    output_dir='./results',          # output directory\n",
    "    num_train_epochs=2,              # total number of training epochs\n",
    "    per_device_train_batch_size=16,  # batch size per device during training\n",
    "    per_device_eval_batch_size=64,   # batch size for evaluation\n",
    "    warmup_steps=500,                # number of warmup steps for learning rate scheduler\n",
    "    weight_decay=0.01,               # strength of weight decay\n",
    "    logging_dir='./logs',            # directory for storing logs\n",
    "    logging_steps=10,\n",
    "    evaluation_strategy=\"epoch\",\n",
    "    save_strategy = \"epoch\",     \n",
    "    save_total_limit = 15,\n",
    "    save_steps = 2000,\n",
    "    load_best_model_at_end = True,\n",
    "\n",
    ")\n",
    "\n",
    "\n",
    "trainer = Trainer(\n",
    "    model=model,                         # the instantiated 🤗 Transformers model to be trained\n",
    "    args=training_args,                  # training arguments, defined above\n",
    "    train_dataset=train_dataset,         # training dataset\n",
    "    eval_dataset=test_dataset ,          # evaluation dataset\n",
    "     compute_metrics = compute_metrics    # evaluate accuracy\n",
    ")\n",
    "\n",
    "trainer.train()"
   ]
  },
  {
   "cell_type": "code",
   "execution_count": null,
   "metadata": {},
   "outputs": [],
   "source": [
    "# saving model to use for API\n",
    "trainer.save_model('./trial7')"
   ]
  },
  {
   "cell_type": "code",
   "execution_count": null,
   "metadata": {},
   "outputs": [],
   "source": [
    "trainer.evaluate(test_dataset)"
   ]
  },
  {
   "cell_type": "code",
   "execution_count": null,
   "metadata": {},
   "outputs": [],
   "source": [
    "output=trainer.predict(test_dataset)[0]"
   ]
  },
  {
   "cell_type": "code",
   "execution_count": null,
   "metadata": {},
   "outputs": [],
   "source": [
    "from sklearn.metrics import classification_report\n",
    "\n",
    "cm=classification_report(y_test.argmax(axis=1),output.argmax(axis=1))\n",
    "print(cm)"
   ]
  },
  {
   "cell_type": "code",
   "execution_count": null,
   "metadata": {},
   "outputs": [],
   "source": [
    "print('tamaaaaam')"
   ]
  },
  {
   "cell_type": "code",
   "execution_count": null,
   "metadata": {},
   "outputs": [],
   "source": []
  },
  {
   "cell_type": "code",
   "execution_count": null,
   "metadata": {},
   "outputs": [],
   "source": []
  }
 ],
 "metadata": {
  "kernelspec": {
   "display_name": "Python 3 (ipykernel)",
   "language": "python",
   "name": "python3"
  },
  "language_info": {
   "codemirror_mode": {
    "name": "ipython",
    "version": 3
   },
   "file_extension": ".py",
   "mimetype": "text/x-python",
   "name": "python",
   "nbconvert_exporter": "python",
   "pygments_lexer": "ipython3",
   "version": "3.8.12"
  }
 },
 "nbformat": 4,
 "nbformat_minor": 4
}
