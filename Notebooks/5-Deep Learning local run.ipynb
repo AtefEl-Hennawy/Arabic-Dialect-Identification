{
 "cells": [
  {
   "cell_type": "code",
   "execution_count": 1,
   "metadata": {},
   "outputs": [],
   "source": [
    "from transformers import BertForSequenceClassification, TextClassificationPipeline, AutoTokenizer"
   ]
  },
  {
   "cell_type": "code",
   "execution_count": 2,
   "metadata": {},
   "outputs": [],
   "source": [
    "tokenizer = AutoTokenizer.from_pretrained('aubmindlab/bert-base-arabertv02-twitter')"
   ]
  },
  {
   "cell_type": "code",
   "execution_count": 3,
   "metadata": {},
   "outputs": [],
   "source": [
    "model = BertForSequenceClassification.from_pretrained(\"D:\\\\1-ITI-AI PRO\\\\DRAFT\\\\AIM ML\\\\trial10\")\n",
    "\n",
    "pipe = TextClassificationPipeline(model=model, tokenizer=tokenizer)"
   ]
  },
  {
   "cell_type": "code",
   "execution_count": 4,
   "metadata": {},
   "outputs": [
    {
     "name": "stdout",
     "output_type": "stream",
     "text": [
      "EG\n"
     ]
    }
   ],
   "source": [
    "label_dict = {'LABEL_0' : 'AE', 'LABEL_1' : 'BH', 'LABEL_2' : 'DZ', 'LABEL_3' : 'EG', 'LABEL_4' : 'IQ', 'LABEL_5' : 'JO', 'LABEL_6' : 'KW',\n",
    "              'LABEL_7' : 'LB', 'LABEL_8' : 'LY', 'LABEL_9' : 'MA', 'LABEL_10' : 'OM', 'LABEL_11' : 'PL',\n",
    "              'LABEL_12' :'QA', 'LABEL_13' : 'SA', 'LABEL_14' : 'SD', 'LABEL_15' : 'SY', 'LABEL_16' : 'TN', 'LABEL_17' : 'YE'}\n",
    "\n",
    "s = 'ليه بس كده يا باشا' \n",
    "\n",
    "for pred in pipe(s):\n",
    "    print(label_dict[pred['label']])"
   ]
  },
  {
   "cell_type": "code",
   "execution_count": null,
   "metadata": {},
   "outputs": [],
   "source": []
  }
 ],
 "metadata": {
  "kernelspec": {
   "display_name": "Python 3 (ipykernel)",
   "language": "python",
   "name": "python3"
  },
  "language_info": {
   "codemirror_mode": {
    "name": "ipython",
    "version": 3
   },
   "file_extension": ".py",
   "mimetype": "text/x-python",
   "name": "python",
   "nbconvert_exporter": "python",
   "pygments_lexer": "ipython3",
   "version": "3.9.1"
  }
 },
 "nbformat": 4,
 "nbformat_minor": 4
}
