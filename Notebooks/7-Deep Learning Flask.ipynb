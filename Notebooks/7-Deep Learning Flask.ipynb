{
 "cells": [
  {
   "cell_type": "code",
   "execution_count": 3,
   "metadata": {},
   "outputs": [
    {
     "name": "stdout",
     "output_type": "stream",
     "text": [
      " * Serving Flask app '__main__' (lazy loading)\n",
      " * Environment: production\n",
      "   WARNING: This is a development server. Do not use it in a production deployment.\n",
      "   Use a production WSGI server instead.\n",
      " * Debug mode: off\n"
     ]
    },
    {
     "name": "stderr",
     "output_type": "stream",
     "text": [
      " * Running on http://127.0.0.1:5000/ (Press CTRL+C to quit)\n",
      "127.0.0.1 - - [14/Mar/2022 20:17:36] \"GET / HTTP/1.1\" 200 -\n",
      "127.0.0.1 - - [14/Mar/2022 20:17:36] \"GET /favicon.ico HTTP/1.1\" 404 -\n",
      "127.0.0.1 - - [14/Mar/2022 20:17:37] \"GET /favicon.ico HTTP/1.1\" 404 -\n",
      "127.0.0.1 - - [14/Mar/2022 20:17:39] \"POST /predict HTTP/1.1\" 200 -\n",
      "127.0.0.1 - - [14/Mar/2022 20:17:39] \"GET /favicon.ico HTTP/1.1\" 404 -\n",
      "127.0.0.1 - - [14/Mar/2022 20:17:40] \"GET /favicon.ico HTTP/1.1\" 404 -\n",
      "127.0.0.1 - - [14/Mar/2022 20:17:56] \"POST /predict HTTP/1.1\" 200 -\n",
      "127.0.0.1 - - [14/Mar/2022 20:17:56] \"GET /favicon.ico HTTP/1.1\" 404 -\n",
      "127.0.0.1 - - [14/Mar/2022 20:17:57] \"GET /favicon.ico HTTP/1.1\" 404 -\n"
     ]
    }
   ],
   "source": [
    "import numpy as np\n",
    "from flask import Flask, request, jsonify, render_template\n",
    "from transformers import BertForSequenceClassification, TextClassificationPipeline, AutoTokenizer\n",
    "\n",
    "app = Flask(__name__)\n",
    "\n",
    "tokenizer = AutoTokenizer.from_pretrained('aubmindlab/bert-base-arabertv02-twitter')\n",
    "model = BertForSequenceClassification.from_pretrained(\"D:\\\\1-ITI-AI PRO\\\\DRAFT\\\\AIM ML\\\\trial10\") # where the model is saved\n",
    "pipe = TextClassificationPipeline(model=model, tokenizer=tokenizer)\n",
    "\n",
    "label_dict = {'LABEL_0' : 'AE', 'LABEL_1' : 'BH', 'LABEL_2' : 'DZ', 'LABEL_3' : 'EG', 'LABEL_4' : 'IQ', 'LABEL_5' : 'JO',\n",
    "              'LABEL_6' : 'KW', 'LABEL_7' : 'LB', 'LABEL_8' : 'LY', 'LABEL_9' : 'MA', 'LABEL_10' : 'OM', 'LABEL_11' : 'PL',\n",
    "              'LABEL_12' :'QA', 'LABEL_13' :' SA', 'LABEL_14' : 'SD', 'LABEL_15' : 'SY', 'LABEL_16' : 'TN', 'LABEL_17' : 'YE'}\n",
    "\n",
    "@app.route('/')\n",
    "def home():\n",
    "    return render_template('index.html')\n",
    "\n",
    "@app.route('/predict',methods=['POST'])\n",
    "def predict():\n",
    "    '''\n",
    "    For rendering results on HTML GUI\n",
    "    '''\n",
    "    int_features = [str(x) for x in request.form.values()]    \n",
    "    prediction = pipe(int_features[0])[0]\n",
    "    output = label_dict[prediction['label']]\n",
    "\n",
    "    return render_template('index.html', prediction_text='Expected Dialect: {}'.format(output))\n",
    "\n",
    "@app.route('/predict_api',methods=['POST'])\n",
    "def predict_api():\n",
    "    '''\n",
    "    For direct API calls through request\n",
    "    '''\n",
    "    data = request.get_json(force=True)    \n",
    "    prediction = pipe(list(data.values()))    \n",
    "    output = [label_dict[pred['label']] for pred in prediction]\n",
    "    \n",
    "    return jsonify(output)\n",
    "\n",
    "\n",
    "if __name__ == \"__main__\":\n",
    "    app.run(debug=False)"
   ]
  },
  {
   "cell_type": "code",
   "execution_count": null,
   "metadata": {},
   "outputs": [],
   "source": []
  }
 ],
 "metadata": {
  "kernelspec": {
   "display_name": "Python 3 (ipykernel)",
   "language": "python",
   "name": "python3"
  },
  "language_info": {
   "codemirror_mode": {
    "name": "ipython",
    "version": 3
   },
   "file_extension": ".py",
   "mimetype": "text/x-python",
   "name": "python",
   "nbconvert_exporter": "python",
   "pygments_lexer": "ipython3",
   "version": "3.9.1"
  }
 },
 "nbformat": 4,
 "nbformat_minor": 4
}
