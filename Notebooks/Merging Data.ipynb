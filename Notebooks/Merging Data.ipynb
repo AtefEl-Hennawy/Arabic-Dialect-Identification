{
 "cells": [
  {
   "cell_type": "code",
   "execution_count": 3,
   "metadata": {},
   "outputs": [],
   "source": [
    "import pandas as pd "
   ]
  },
  {
   "cell_type": "code",
   "execution_count": 4,
   "metadata": {},
   "outputs": [
    {
     "data": {
      "text/plain": [
       "458197"
      ]
     },
     "execution_count": 4,
     "metadata": {},
     "output_type": "execute_result"
    }
   ],
   "source": [
    "# original Dataset without text\n",
    "original = pd.read_csv('dialect_dataset.csv', index_col=0)\n",
    "original.size"
   ]
  },
  {
   "cell_type": "code",
   "execution_count": 5,
   "metadata": {},
   "outputs": [
    {
     "data": {
      "text/plain": [
       "458197"
      ]
     },
     "execution_count": 5,
     "metadata": {},
     "output_type": "execute_result"
    }
   ],
   "source": [
    "# Dataset after fetching Data\n",
    "api_re = pd.read_csv('Data.csv', index_col=0)\n",
    "api_re.size"
   ]
  },
  {
   "cell_type": "code",
   "execution_count": 6,
   "metadata": {},
   "outputs": [
    {
     "data": {
      "text/html": [
       "<div>\n",
       "<style scoped>\n",
       "    .dataframe tbody tr th:only-of-type {\n",
       "        vertical-align: middle;\n",
       "    }\n",
       "\n",
       "    .dataframe tbody tr th {\n",
       "        vertical-align: top;\n",
       "    }\n",
       "\n",
       "    .dataframe thead th {\n",
       "        text-align: right;\n",
       "    }\n",
       "</style>\n",
       "<table border=\"1\" class=\"dataframe\">\n",
       "  <thead>\n",
       "    <tr style=\"text-align: right;\">\n",
       "      <th></th>\n",
       "      <th>0</th>\n",
       "    </tr>\n",
       "  </thead>\n",
       "  <tbody>\n",
       "    <tr>\n",
       "      <th>1175358310087892992</th>\n",
       "      <td>@Nw8ieJUwaCAAreT لكن بالنهاية .. ينتفض .. يغير .</td>\n",
       "    </tr>\n",
       "    <tr>\n",
       "      <th>1175416117793349632</th>\n",
       "      <td>@7zNqXP0yrODdRjK يعني هذا محسوب على البشر .. ح...</td>\n",
       "    </tr>\n",
       "    <tr>\n",
       "      <th>1175450108898565888</th>\n",
       "      <td>@KanaanRema مبين من كلامه خليجي</td>\n",
       "    </tr>\n",
       "    <tr>\n",
       "      <th>1175471073770573824</th>\n",
       "      <td>@HAIDER76128900 يسلملي مرورك وروحك الحلوه💐</td>\n",
       "    </tr>\n",
       "    <tr>\n",
       "      <th>1175496913145217024</th>\n",
       "      <td>@hmo2406 وين هل الغيبه  اخ محمد 🌸🌺</td>\n",
       "    </tr>\n",
       "    <tr>\n",
       "      <th>...</th>\n",
       "      <td>...</td>\n",
       "    </tr>\n",
       "    <tr>\n",
       "      <th>1019484980282580992</th>\n",
       "      <td>@Al_mhbaa_7 مبسوطين منك اللي باسطانا😅</td>\n",
       "    </tr>\n",
       "    <tr>\n",
       "      <th>1021083283709407232</th>\n",
       "      <td>@Zzainabali @P_ameerah والله ماينده ابش يختي</td>\n",
       "    </tr>\n",
       "    <tr>\n",
       "      <th>1017477537889431552</th>\n",
       "      <td>@Al_mhbaa_7 شو عملنا لك حنا تهربي مننا احنا مس...</td>\n",
       "    </tr>\n",
       "    <tr>\n",
       "      <th>1022430374696239232</th>\n",
       "      <td>@haneenalmwla الله يبارك فيها وبالعافيه 😋😋😋</td>\n",
       "    </tr>\n",
       "    <tr>\n",
       "      <th>1022409931029458944</th>\n",
       "      <td>@jolnar121 السحله ضيفي ي بتطلع لك سحليه😅😅</td>\n",
       "    </tr>\n",
       "  </tbody>\n",
       "</table>\n",
       "<p>458197 rows × 1 columns</p>\n",
       "</div>"
      ],
      "text/plain": [
       "                                                                     0\n",
       "1175358310087892992   @Nw8ieJUwaCAAreT لكن بالنهاية .. ينتفض .. يغير .\n",
       "1175416117793349632  @7zNqXP0yrODdRjK يعني هذا محسوب على البشر .. ح...\n",
       "1175450108898565888                    @KanaanRema مبين من كلامه خليجي\n",
       "1175471073770573824         @HAIDER76128900 يسلملي مرورك وروحك الحلوه💐\n",
       "1175496913145217024                 @hmo2406 وين هل الغيبه  اخ محمد 🌸🌺\n",
       "...                                                                ...\n",
       "1019484980282580992              @Al_mhbaa_7 مبسوطين منك اللي باسطانا😅\n",
       "1021083283709407232       @Zzainabali @P_ameerah والله ماينده ابش يختي\n",
       "1017477537889431552  @Al_mhbaa_7 شو عملنا لك حنا تهربي مننا احنا مس...\n",
       "1022430374696239232        @haneenalmwla الله يبارك فيها وبالعافيه 😋😋😋\n",
       "1022409931029458944          @jolnar121 السحله ضيفي ي بتطلع لك سحليه😅😅\n",
       "\n",
       "[458197 rows x 1 columns]"
      ]
     },
     "execution_count": 6,
     "metadata": {},
     "output_type": "execute_result"
    }
   ],
   "source": [
    "api_re"
   ]
  },
  {
   "cell_type": "code",
   "execution_count": 7,
   "metadata": {},
   "outputs": [
    {
     "data": {
      "text/html": [
       "<div>\n",
       "<style scoped>\n",
       "    .dataframe tbody tr th:only-of-type {\n",
       "        vertical-align: middle;\n",
       "    }\n",
       "\n",
       "    .dataframe tbody tr th {\n",
       "        vertical-align: top;\n",
       "    }\n",
       "\n",
       "    .dataframe thead th {\n",
       "        text-align: right;\n",
       "    }\n",
       "</style>\n",
       "<table border=\"1\" class=\"dataframe\">\n",
       "  <thead>\n",
       "    <tr style=\"text-align: right;\">\n",
       "      <th></th>\n",
       "      <th>dialect</th>\n",
       "      <th>0</th>\n",
       "    </tr>\n",
       "    <tr>\n",
       "      <th>id</th>\n",
       "      <th></th>\n",
       "      <th></th>\n",
       "    </tr>\n",
       "  </thead>\n",
       "  <tbody>\n",
       "    <tr>\n",
       "      <th>1175358310087892992</th>\n",
       "      <td>IQ</td>\n",
       "      <td>@Nw8ieJUwaCAAreT لكن بالنهاية .. ينتفض .. يغير .</td>\n",
       "    </tr>\n",
       "    <tr>\n",
       "      <th>1175416117793349632</th>\n",
       "      <td>IQ</td>\n",
       "      <td>@7zNqXP0yrODdRjK يعني هذا محسوب على البشر .. ح...</td>\n",
       "    </tr>\n",
       "    <tr>\n",
       "      <th>1175450108898565888</th>\n",
       "      <td>IQ</td>\n",
       "      <td>@KanaanRema مبين من كلامه خليجي</td>\n",
       "    </tr>\n",
       "    <tr>\n",
       "      <th>1175471073770573824</th>\n",
       "      <td>IQ</td>\n",
       "      <td>@HAIDER76128900 يسلملي مرورك وروحك الحلوه💐</td>\n",
       "    </tr>\n",
       "    <tr>\n",
       "      <th>1175496913145217024</th>\n",
       "      <td>IQ</td>\n",
       "      <td>@hmo2406 وين هل الغيبه  اخ محمد 🌸🌺</td>\n",
       "    </tr>\n",
       "    <tr>\n",
       "      <th>...</th>\n",
       "      <td>...</td>\n",
       "      <td>...</td>\n",
       "    </tr>\n",
       "    <tr>\n",
       "      <th>1019484980282580992</th>\n",
       "      <td>BH</td>\n",
       "      <td>@Al_mhbaa_7 مبسوطين منك اللي باسطانا😅</td>\n",
       "    </tr>\n",
       "    <tr>\n",
       "      <th>1021083283709407232</th>\n",
       "      <td>BH</td>\n",
       "      <td>@Zzainabali @P_ameerah والله ماينده ابش يختي</td>\n",
       "    </tr>\n",
       "    <tr>\n",
       "      <th>1017477537889431552</th>\n",
       "      <td>BH</td>\n",
       "      <td>@Al_mhbaa_7 شو عملنا لك حنا تهربي مننا احنا مس...</td>\n",
       "    </tr>\n",
       "    <tr>\n",
       "      <th>1022430374696239232</th>\n",
       "      <td>BH</td>\n",
       "      <td>@haneenalmwla الله يبارك فيها وبالعافيه 😋😋😋</td>\n",
       "    </tr>\n",
       "    <tr>\n",
       "      <th>1022409931029458944</th>\n",
       "      <td>BH</td>\n",
       "      <td>@jolnar121 السحله ضيفي ي بتطلع لك سحليه😅😅</td>\n",
       "    </tr>\n",
       "  </tbody>\n",
       "</table>\n",
       "<p>458197 rows × 2 columns</p>\n",
       "</div>"
      ],
      "text/plain": [
       "                    dialect                                                  0\n",
       "id                                                                            \n",
       "1175358310087892992      IQ   @Nw8ieJUwaCAAreT لكن بالنهاية .. ينتفض .. يغير .\n",
       "1175416117793349632      IQ  @7zNqXP0yrODdRjK يعني هذا محسوب على البشر .. ح...\n",
       "1175450108898565888      IQ                    @KanaanRema مبين من كلامه خليجي\n",
       "1175471073770573824      IQ         @HAIDER76128900 يسلملي مرورك وروحك الحلوه💐\n",
       "1175496913145217024      IQ                 @hmo2406 وين هل الغيبه  اخ محمد 🌸🌺\n",
       "...                     ...                                                ...\n",
       "1019484980282580992      BH              @Al_mhbaa_7 مبسوطين منك اللي باسطانا😅\n",
       "1021083283709407232      BH       @Zzainabali @P_ameerah والله ماينده ابش يختي\n",
       "1017477537889431552      BH  @Al_mhbaa_7 شو عملنا لك حنا تهربي مننا احنا مس...\n",
       "1022430374696239232      BH        @haneenalmwla الله يبارك فيها وبالعافيه 😋😋😋\n",
       "1022409931029458944      BH          @jolnar121 السحله ضيفي ي بتطلع لك سحليه😅😅\n",
       "\n",
       "[458197 rows x 2 columns]"
      ]
     },
     "execution_count": 7,
     "metadata": {},
     "output_type": "execute_result"
    }
   ],
   "source": [
    "# merging in ID to make sure nothing is missing\n",
    "to_work = original.join(api_re)\n",
    "to_work"
   ]
  },
  {
   "cell_type": "code",
   "execution_count": 8,
   "metadata": {},
   "outputs": [],
   "source": [
    "to_work.to_csv('Work.csv')"
   ]
  },
  {
   "cell_type": "code",
   "execution_count": null,
   "metadata": {},
   "outputs": [],
   "source": []
  }
 ],
 "metadata": {
  "kernelspec": {
   "display_name": "Python 3 (ipykernel)",
   "language": "python",
   "name": "python3"
  },
  "language_info": {
   "codemirror_mode": {
    "name": "ipython",
    "version": 3
   },
   "file_extension": ".py",
   "mimetype": "text/x-python",
   "name": "python",
   "nbconvert_exporter": "python",
   "pygments_lexer": "ipython3",
   "version": "3.8.12"
  }
 },
 "nbformat": 4,
 "nbformat_minor": 4
}
